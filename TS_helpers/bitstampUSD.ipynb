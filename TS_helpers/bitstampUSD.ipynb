{
 "cells": [
  {
   "cell_type": "markdown",
   "metadata": {},
   "source": [
    "# Prep of BitStamp(BTC_USD_1min)"
   ]
  },
  {
   "cell_type": "code",
   "execution_count": 394,
   "metadata": {},
   "outputs": [],
   "source": [
    "import pandas as pd\n",
    "import numpy as np\n",
    "from datetime import datetime\n",
    "from tqdm import tqdm"
   ]
  },
  {
   "cell_type": "code",
   "execution_count": 395,
   "metadata": {},
   "outputs": [],
   "source": [
    "btc_usd_1min = pd.read_csv('../COINAPI/bitcoin-historical-data/bitstampUSD_1-min_data_2012-01-01_to_2019-03-13.csv')"
   ]
  },
  {
   "cell_type": "code",
   "execution_count": 396,
   "metadata": {},
   "outputs": [],
   "source": [
    "btc_usd_1min['date'] = btc_usd_1min['Timestamp'].apply(lambda x :\n",
    "                                                       datetime.utcfromtimestamp(int(x))\n",
    "                                                      )\n",
    "btc_usd_1min['date_str'] = btc_usd_1min['date'].astype(str)"
   ]
  },
  {
   "cell_type": "code",
   "execution_count": 226,
   "metadata": {},
   "outputs": [
    {
     "data": {
      "text/plain": [
       "'2011-12-31 07:52:00'"
      ]
     },
     "execution_count": 226,
     "metadata": {},
     "output_type": "execute_result"
    }
   ],
   "source": [
    "btc_usd_1min['date_str'][0]"
   ]
  },
  {
   "cell_type": "code",
   "execution_count": 232,
   "metadata": {},
   "outputs": [],
   "source": [
    "\n",
    "def make_integer_time_index(time_exch, config=None):\n",
    "    '''\n",
    "    Creates integer time index from 'time_exchange' column returned in format of Coin API\n",
    "    \n",
    "    This function is designed to be called with pd.Series.apply(lambda x: func(x, config=config)), x is the value of 'time_exch' passed on by apply function,\n",
    "    while what kind of index will be created should be specified by user via 'config' param.\n",
    "    \n",
    "        args:\n",
    "            \n",
    "            * time_exch: this is passed by .apply function from pandas\n",
    "            * config (str): user specifies which time index to create  as '[agg_type]_[agg_freq]':\n",
    "                - agg_type: \n",
    "                    = cycle:  only return the cycle. ( example if freq is day, then return day of the month example: 1, 2, 24, 30)\n",
    "                    = bin: concatenate starting from largest freq(year) until specified freq (allows easy binning with this freq, hence the name 'bin')\n",
    "    '''\n",
    "    \n",
    "    agg_type, agg_freq  = config.split('_')\n",
    "    \n",
    "    t = str(time_exch).split(' ')\n",
    "\n",
    "    year, month, day = t[0].split('-')\n",
    "    hour, minute, second = t[1].split('.')[0].split(':')\n",
    "    ymd_hms = { 'year': year, 'month':month, 'day': day, 'hour': hour, 'minute': minute, 'second': second  }\n",
    "\n",
    "     \n",
    "    if agg_type == 'cycle':\n",
    "        return(int(ymd_hms[agg_freq]))\n",
    "    \n",
    "    elif agg_type == 'bin':\n",
    "        bin_time = ''\n",
    "        for freq, freq_value in ymd_hms.items():\n",
    "            bin_time += freq_value\n",
    "            if freq == agg_freq:\n",
    "                break\n",
    "        return(int(bin_time))\n",
    "\n",
    "    \n",
    "def make_all_time_indexes(df):             \n",
    "    time_agg_inds = []\n",
    "    \n",
    "    for agg_type in ['cycle', 'bin']:\n",
    "        for agg_freq in ['year','month', 'day']:\n",
    "            print(agg_type, agg_freq)\n",
    "            if agg_type == 'cycle':\n",
    "                config = str(agg_type+'_'+agg_freq)\n",
    "                df[agg_freq] = df['date_str'].apply(lambda x: make_integer_time_index(x, config=config))\n",
    "                time_agg_inds.append(agg_freq)\n",
    "            else:\n",
    "                config = str('bin_'+agg_freq)\n",
    "                df['time_'+agg_freq] = df['date_str'].apply(lambda x: make_integer_time_index(x, config=config))\n",
    "                time_agg_inds.append('time_'+agg_freq)\n",
    "\n",
    "    return df\n",
    "    "
   ]
  },
  {
   "cell_type": "code",
   "execution_count": null,
   "metadata": {},
   "outputs": [],
   "source": [
    "btc_usd_1min['Volume_(Currency)_normal'] = btc_usd_1min['Volume_(Currency)']/ btc_usd_1min['Volume_(Currency)'].max()"
   ]
  },
  {
   "cell_type": "code",
   "execution_count": 325,
   "metadata": {},
   "outputs": [
    {
     "data": {
      "text/html": [
       "<div>\n",
       "<style scoped>\n",
       "    .dataframe tbody tr th:only-of-type {\n",
       "        vertical-align: middle;\n",
       "    }\n",
       "\n",
       "    .dataframe tbody tr th {\n",
       "        vertical-align: top;\n",
       "    }\n",
       "\n",
       "    .dataframe thead th {\n",
       "        text-align: right;\n",
       "    }\n",
       "</style>\n",
       "<table border=\"1\" class=\"dataframe\">\n",
       "  <thead>\n",
       "    <tr style=\"text-align: right;\">\n",
       "      <th></th>\n",
       "      <th>Timestamp</th>\n",
       "      <th>Open</th>\n",
       "      <th>High</th>\n",
       "      <th>Low</th>\n",
       "      <th>Close</th>\n",
       "      <th>Volume_(BTC)</th>\n",
       "      <th>Volume_(Currency)</th>\n",
       "      <th>Weighted_Price</th>\n",
       "      <th>date</th>\n",
       "      <th>year</th>\n",
       "      <th>...</th>\n",
       "      <th>hour</th>\n",
       "      <th>minute</th>\n",
       "      <th>second</th>\n",
       "      <th>time_month</th>\n",
       "      <th>time_day</th>\n",
       "      <th>time_hour</th>\n",
       "      <th>time_minute</th>\n",
       "      <th>isna</th>\n",
       "      <th>date_str</th>\n",
       "      <th>time_year</th>\n",
       "    </tr>\n",
       "  </thead>\n",
       "  <tbody>\n",
       "    <tr>\n",
       "      <th>0</th>\n",
       "      <td>1325317920</td>\n",
       "      <td>4.39</td>\n",
       "      <td>4.39</td>\n",
       "      <td>4.39</td>\n",
       "      <td>4.39</td>\n",
       "      <td>0.455581</td>\n",
       "      <td>2.0</td>\n",
       "      <td>4.39</td>\n",
       "      <td>2011-12-31 07:52:00</td>\n",
       "      <td>2011</td>\n",
       "      <td>...</td>\n",
       "      <td>7</td>\n",
       "      <td>52</td>\n",
       "      <td>0</td>\n",
       "      <td>201112</td>\n",
       "      <td>20111231</td>\n",
       "      <td>201112317</td>\n",
       "      <td>20111231752</td>\n",
       "      <td>False</td>\n",
       "      <td>2011-12-31 07:52:00</td>\n",
       "      <td>2011</td>\n",
       "    </tr>\n",
       "    <tr>\n",
       "      <th>1</th>\n",
       "      <td>1325317980</td>\n",
       "      <td>NaN</td>\n",
       "      <td>NaN</td>\n",
       "      <td>NaN</td>\n",
       "      <td>NaN</td>\n",
       "      <td>NaN</td>\n",
       "      <td>NaN</td>\n",
       "      <td>NaN</td>\n",
       "      <td>2011-12-31 07:53:00</td>\n",
       "      <td>2011</td>\n",
       "      <td>...</td>\n",
       "      <td>7</td>\n",
       "      <td>53</td>\n",
       "      <td>0</td>\n",
       "      <td>201112</td>\n",
       "      <td>20111231</td>\n",
       "      <td>201112317</td>\n",
       "      <td>20111231753</td>\n",
       "      <td>True</td>\n",
       "      <td>2011-12-31 07:53:00</td>\n",
       "      <td>2011</td>\n",
       "    </tr>\n",
       "    <tr>\n",
       "      <th>2</th>\n",
       "      <td>1325318040</td>\n",
       "      <td>NaN</td>\n",
       "      <td>NaN</td>\n",
       "      <td>NaN</td>\n",
       "      <td>NaN</td>\n",
       "      <td>NaN</td>\n",
       "      <td>NaN</td>\n",
       "      <td>NaN</td>\n",
       "      <td>2011-12-31 07:54:00</td>\n",
       "      <td>2011</td>\n",
       "      <td>...</td>\n",
       "      <td>7</td>\n",
       "      <td>54</td>\n",
       "      <td>0</td>\n",
       "      <td>201112</td>\n",
       "      <td>20111231</td>\n",
       "      <td>201112317</td>\n",
       "      <td>20111231754</td>\n",
       "      <td>True</td>\n",
       "      <td>2011-12-31 07:54:00</td>\n",
       "      <td>2011</td>\n",
       "    </tr>\n",
       "    <tr>\n",
       "      <th>3</th>\n",
       "      <td>1325318100</td>\n",
       "      <td>NaN</td>\n",
       "      <td>NaN</td>\n",
       "      <td>NaN</td>\n",
       "      <td>NaN</td>\n",
       "      <td>NaN</td>\n",
       "      <td>NaN</td>\n",
       "      <td>NaN</td>\n",
       "      <td>2011-12-31 07:55:00</td>\n",
       "      <td>2011</td>\n",
       "      <td>...</td>\n",
       "      <td>7</td>\n",
       "      <td>55</td>\n",
       "      <td>0</td>\n",
       "      <td>201112</td>\n",
       "      <td>20111231</td>\n",
       "      <td>201112317</td>\n",
       "      <td>20111231755</td>\n",
       "      <td>True</td>\n",
       "      <td>2011-12-31 07:55:00</td>\n",
       "      <td>2011</td>\n",
       "    </tr>\n",
       "    <tr>\n",
       "      <th>4</th>\n",
       "      <td>1325318160</td>\n",
       "      <td>NaN</td>\n",
       "      <td>NaN</td>\n",
       "      <td>NaN</td>\n",
       "      <td>NaN</td>\n",
       "      <td>NaN</td>\n",
       "      <td>NaN</td>\n",
       "      <td>NaN</td>\n",
       "      <td>2011-12-31 07:56:00</td>\n",
       "      <td>2011</td>\n",
       "      <td>...</td>\n",
       "      <td>7</td>\n",
       "      <td>56</td>\n",
       "      <td>0</td>\n",
       "      <td>201112</td>\n",
       "      <td>20111231</td>\n",
       "      <td>201112317</td>\n",
       "      <td>20111231756</td>\n",
       "      <td>True</td>\n",
       "      <td>2011-12-31 07:56:00</td>\n",
       "      <td>2011</td>\n",
       "    </tr>\n",
       "  </tbody>\n",
       "</table>\n",
       "<p>5 rows × 22 columns</p>\n",
       "</div>"
      ],
      "text/plain": [
       "    Timestamp  Open  High   Low  Close  Volume_(BTC)  Volume_(Currency)  \\\n",
       "0  1325317920  4.39  4.39  4.39   4.39      0.455581                2.0   \n",
       "1  1325317980   NaN   NaN   NaN    NaN           NaN                NaN   \n",
       "2  1325318040   NaN   NaN   NaN    NaN           NaN                NaN   \n",
       "3  1325318100   NaN   NaN   NaN    NaN           NaN                NaN   \n",
       "4  1325318160   NaN   NaN   NaN    NaN           NaN                NaN   \n",
       "\n",
       "   Weighted_Price                date  year    ...      hour  minute  second  \\\n",
       "0            4.39 2011-12-31 07:52:00  2011    ...         7      52       0   \n",
       "1             NaN 2011-12-31 07:53:00  2011    ...         7      53       0   \n",
       "2             NaN 2011-12-31 07:54:00  2011    ...         7      54       0   \n",
       "3             NaN 2011-12-31 07:55:00  2011    ...         7      55       0   \n",
       "4             NaN 2011-12-31 07:56:00  2011    ...         7      56       0   \n",
       "\n",
       "   time_month  time_day  time_hour  time_minute   isna             date_str  \\\n",
       "0      201112  20111231  201112317  20111231752  False  2011-12-31 07:52:00   \n",
       "1      201112  20111231  201112317  20111231753   True  2011-12-31 07:53:00   \n",
       "2      201112  20111231  201112317  20111231754   True  2011-12-31 07:54:00   \n",
       "3      201112  20111231  201112317  20111231755   True  2011-12-31 07:55:00   \n",
       "4      201112  20111231  201112317  20111231756   True  2011-12-31 07:56:00   \n",
       "\n",
       "   time_year  \n",
       "0       2011  \n",
       "1       2011  \n",
       "2       2011  \n",
       "3       2011  \n",
       "4       2011  \n",
       "\n",
       "[5 rows x 22 columns]"
      ]
     },
     "execution_count": 325,
     "metadata": {},
     "output_type": "execute_result"
    }
   ],
   "source": [
    "btc_usd_1min.head()"
   ]
  },
  {
   "cell_type": "code",
   "execution_count": 233,
   "metadata": {},
   "outputs": [
    {
     "name": "stdout",
     "output_type": "stream",
     "text": [
      "cycle year\n",
      "cycle month\n",
      "cycle day\n",
      "bin year\n",
      "bin month\n",
      "bin day\n"
     ]
    }
   ],
   "source": [
    "btc_usd_1min = make_all_time_indexes(btc_usd_1min)"
   ]
  },
  {
   "cell_type": "code",
   "execution_count": 282,
   "metadata": {},
   "outputs": [
    {
     "data": {
      "text/plain": [
       "<matplotlib.axes._subplots.AxesSubplot at 0x148cfce80>"
      ]
     },
     "execution_count": 282,
     "metadata": {},
     "output_type": "execute_result"
    },
    {
     "data": {
      "image/png": "[encoded data removed]",
      "text/plain": [
       "<Figure size 432x288 with 1 Axes>"
      ]
     },
     "metadata": {},
     "output_type": "display_data"
    }
   ],
   "source": [
    "btc_usd_1min.groupby('time_month')[['Weighted_Price', 'Volume_(Currency)']].agg(['mean']).plot.bar(color=['grey', 'blue'])"
   ]
  },
  {
   "cell_type": "code",
   "execution_count": 305,
   "metadata": {},
   "outputs": [
    {
     "data": {
      "text/plain": [
       "time_month\n",
       "201112        4.471603\n",
       "201201        6.345955\n",
       "201202        5.228443\n",
       "201203        4.984397\n",
       "201204        4.995091\n",
       "201205        5.046848\n",
       "201206        6.047198\n",
       "201207        7.907613\n",
       "201208       10.984670\n",
       "201209       11.435692\n",
       "201210       11.586089\n",
       "201211       11.307919\n",
       "201212       13.167811\n",
       "201301       15.806890\n",
       "201302       26.805143\n",
       "201303       60.495681\n",
       "201304      127.481485\n",
       "201305      117.780293\n",
       "201306      106.525482\n",
       "201307       85.326093\n",
       "201308      104.600292\n",
       "201309      124.966240\n",
       "201310      153.706777\n",
       "201311      532.941844\n",
       "201312      795.146259\n",
       "201401      820.097776\n",
       "201402      657.512046\n",
       "201403      591.475008\n",
       "201404      461.292204\n",
       "201405      490.389549\n",
       "              ...     \n",
       "201610      641.036916\n",
       "201611      723.194034\n",
       "201612      826.698833\n",
       "201701      908.151806\n",
       "201702     1060.662187\n",
       "201703     1128.963271\n",
       "201704     1208.992861\n",
       "201705     1885.190125\n",
       "201706     2619.194432\n",
       "201707     2491.271488\n",
       "201708     3834.673640\n",
       "201709     4085.751829\n",
       "201710     5293.800261\n",
       "201711     7754.625229\n",
       "201712    14840.894239\n",
       "201801    12894.950040\n",
       "201802     9389.696046\n",
       "201803     9023.731020\n",
       "201804     7985.222524\n",
       "201805     8439.758860\n",
       "201806     6783.390080\n",
       "201807     7096.708055\n",
       "201808     6693.230560\n",
       "201809     6586.987311\n",
       "201810     6416.713230\n",
       "201811     5321.281997\n",
       "201812     3672.419306\n",
       "201901     3659.467919\n",
       "201902     3653.638677\n",
       "201903     3831.243494\n",
       "Name: Weighted_Price, Length: 88, dtype: float64"
      ]
     },
     "execution_count": 305,
     "metadata": {},
     "output_type": "execute_result"
    }
   ],
   "source": [
    "btc_usd_1min.groupby('time_month')[['Weighted_Price']].mean()['Weighted_Price']"
   ]
  },
  {
   "cell_type": "code",
   "execution_count": 390,
   "metadata": {},
   "outputs": [],
   "source": [
    "from matplotlib import pyplot as plt\n",
    "all_na = btc_usd_1min['Open'].isna().sum()\n",
    "btc_usd_1min['isna'] = btc_usd_1min['Open'].isna()\n",
    "monthly_na_shares = ((btc_usd_1min.groupby('time_month')[['isna']].count()-btc_usd_1min.groupby('time_month')[['isna']].sum())/42941.102273)[36:]\n",
    "     \n",
    "     \n",
    "     "
   ]
  },
  {
   "cell_type": "code",
   "execution_count": 391,
   "metadata": {},
   "outputs": [
    {
     "data": {
      "text/plain": [
       "isna    42941.102273\n",
       "dtype: float64"
      ]
     },
     "execution_count": 391,
     "metadata": {},
     "output_type": "execute_result"
    }
   ],
   "source": [
    "btc_usd_1min.groupby('time_month')[['isna']].count().mean()"
   ]
  },
  {
   "cell_type": "code",
   "execution_count": 392,
   "metadata": {},
   "outputs": [
    {
     "name": "stdout",
     "output_type": "stream",
     "text": [
      "['2015', '2016', '2017', '2018', '2019'] [0, 12, 24, 36, 48] 1\n"
     ]
    }
   ],
   "source": [
    "\n",
    "years = list(set([str(m)[:4] for m in monthly_na_shares.index if str(m)[-2:]=='01']))\n",
    "years.sort()\n",
    "\n",
    "offset = len([m for m in monthly_na_shares.index if m < int(min(years)+'00')]) \n",
    "\n",
    "xticks = [12*i for i in range(len(years))]\n",
    "print(years, xticks, offset)"
   ]
  },
  {
   "cell_type": "code",
   "execution_count": 393,
   "metadata": {},
   "outputs": [
    {
     "name": "stderr",
     "output_type": "stream",
     "text": [
      "No handles with labels found to put in legend.\n"
     ]
    },
    {
     "data": {
      "image/png": "[encoded data removed]",
      "text/plain": [
       "<Figure size 432x288 with 1 Axes>"
      ]
     },
     "metadata": {},
     "output_type": "display_data"
    }
   ],
   "source": [
    "import matplotlib\n",
    "import matplotlib.pyplot as plt\n",
    "import numpy as np\n",
    "\n",
    "\n",
    "\n",
    "nas = monthly_na_shares['isna'].apply(lambda x: round(x*1, 2)).values\n",
    "\n",
    "\n",
    "x = np.arange(len(monthly_na_shares))  # the label locations\n",
    "width = 0.7 # the width of the bars\n",
    "\n",
    "fig, ax = plt.subplots()\n",
    "# ax.set_ylim(0, 5)\n",
    "rects1 = ax.bar(x - width/2, nas, width, align='center')\n",
    "# rects2 = ax.bar(x + width/2, women_means, width, label='Women')\n",
    "\n",
    "\n",
    "ax.set_xticks(xticks)\n",
    "ax.set_xticklabels(years)\n",
    "# plt.xticks(rotation=90)\n",
    "plt.xticks()\n",
    "plt.xticks(size=10)\n",
    "ax.legend()\n",
    "\n",
    "\n",
    "# def autolabel(rects):\n",
    "#     \"\"\"Attach a text label above each bar in *rects*, displaying its height.\"\"\"\n",
    "#     for rect in rects:\n",
    "#         height = rect.get_height()\n",
    "#         ax.annotate('{}'.format(height),\n",
    "#                     xy=(rect.get_x() + rect.get_width() / 2, height),\n",
    "#                     xytext=(0, 3),  # 3 points vertical offset\n",
    "#                     textcoords=\"offset points\",\n",
    "#                     ha='center', va='bottom')\n",
    "\n",
    "\n",
    "# autolabel(rects1)\n",
    "# autolabel(rects2)\n",
    "\n",
    "fig.tight_layout()\n",
    "\n",
    "plt.show()"
   ]
  },
  {
   "cell_type": "code",
   "execution_count": null,
   "metadata": {},
   "outputs": [],
   "source": []
  },
  {
   "cell_type": "code",
   "execution_count": 388,
   "metadata": {},
   "outputs": [
    {
     "data": {
      "text/plain": [
       "Int64Index([201112, 201201, 201202, 201203, 201204, 201205, 201206, 201207,\n",
       "            201208, 201209, 201210, 201211, 201212, 201301, 201302, 201303,\n",
       "            201304, 201305, 201306, 201307, 201308, 201309, 201310, 201311,\n",
       "            201312, 201401, 201402, 201403, 201404, 201405, 201406, 201407,\n",
       "            201408, 201409, 201410, 201411],\n",
       "           dtype='int64', name='time_month')"
      ]
     },
     "execution_count": 388,
     "metadata": {},
     "output_type": "execute_result"
    }
   ],
   "source": [
    "monthly_na_shares.index"
   ]
  },
  {
   "cell_type": "code",
   "execution_count": 291,
   "metadata": {},
   "outputs": [
    {
     "data": {
      "text/plain": [
       "[2011, 2012, 2013, 2014, 2015, 2016, 2017, 2018, 2019]"
      ]
     },
     "execution_count": 291,
     "metadata": {},
     "output_type": "execute_result"
    }
   ],
   "source": [
    "list(btc_usd_1min['year'].unique())"
   ]
  },
  {
   "cell_type": "code",
   "execution_count": null,
   "metadata": {},
   "outputs": [],
   "source": []
  }
 ],
 "metadata": {
  "kernelspec": {
   "display_name": "Python 3",
   "language": "python",
   "name": "python3"
  },
  "language_info": {
   "codemirror_mode": {
    "name": "ipython",
    "version": 3
   },
   "file_extension": ".py",
   "mimetype": "text/x-python",
   "name": "python",
   "nbconvert_exporter": "python",
   "pygments_lexer": "ipython3",
   "version": "3.6.4"
  }
 },
 "nbformat": 4,
 "nbformat_minor": 2
}
