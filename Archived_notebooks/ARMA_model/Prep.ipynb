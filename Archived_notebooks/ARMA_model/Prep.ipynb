{
 "cells": [
  {
   "cell_type": "code",
   "execution_count": 2,
   "metadata": {},
   "outputs": [],
   "source": [
    "# External packages\n",
    "import pandas as pd\n",
    "import numpy as np\n",
    "from matplotlib import pyplot as plt\n",
    "import datetime \n",
    "\n",
    "\n",
    "# Internal packages\n",
    "import sys\n",
    "sys.path.append('../../Time_Series_Forecasting/TS_helpers/')\n",
    "sys.path.append('../../Time_Series_Forecasting/')\n",
    "\n",
    "data_dir = '../../Data/Coins/BTC_USD/bitcoin-historical-data/'\n",
    "from dates_kaggle1min import make_all_time_indexes, make_integer_time_index"
   ]
  },
  {
   "cell_type": "code",
   "execution_count": null,
   "metadata": {},
   "outputs": [],
   "source": []
  }
 ],
 "metadata": {
  "kernelspec": {
   "display_name": "Python 3",
   "language": "python",
   "name": "python3"
  },
  "language_info": {
   "codemirror_mode": {
    "name": "ipython",
    "version": 3
   },
   "file_extension": ".py",
   "mimetype": "text/x-python",
   "name": "python",
   "nbconvert_exporter": "python",
   "pygments_lexer": "ipython3",
   "version": "3.6.4"
  }
 },
 "nbformat": 4,
 "nbformat_minor": 2
}
