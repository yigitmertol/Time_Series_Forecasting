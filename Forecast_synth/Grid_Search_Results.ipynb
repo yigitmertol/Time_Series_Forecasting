{
 "cells": [
  {
   "cell_type": "code",
   "execution_count": 2,
   "metadata": {},
   "outputs": [],
   "source": [
    "import pandas as pd"
   ]
  },
  {
   "cell_type": "code",
   "execution_count": 3,
   "metadata": {},
   "outputs": [],
   "source": [
    "results = pd.read_csv('../Forecast_synth/findings/ESN_MacGL_static_noshock_grid_specrad_X_statenoise_ressize=900.csv')"
   ]
  },
  {
   "cell_type": "code",
   "execution_count": 4,
   "metadata": {},
   "outputs": [
    {
     "data": {
      "text/html": [
       "<div>\n",
       "<style scoped>\n",
       "    .dataframe tbody tr th:only-of-type {\n",
       "        vertical-align: middle;\n",
       "    }\n",
       "\n",
       "    .dataframe tbody tr th {\n",
       "        vertical-align: top;\n",
       "    }\n",
       "\n",
       "    .dataframe thead th {\n",
       "        text-align: right;\n",
       "    }\n",
       "</style>\n",
       "<table border=\"1\" class=\"dataframe\">\n",
       "  <thead>\n",
       "    <tr style=\"text-align: right;\">\n",
       "      <th></th>\n",
       "      <th>Unnamed: 0</th>\n",
       "      <th>Reservoir_Size</th>\n",
       "      <th>State_noise</th>\n",
       "      <th>Sprectral_radius</th>\n",
       "      <th>Rmse_val_mean</th>\n",
       "      <th>Rmse_val_std</th>\n",
       "      <th>Rmse_val_min</th>\n",
       "      <th>Rmse_val_max</th>\n",
       "      <th>Rmse_tr_mean</th>\n",
       "      <th>Rmse_tr_std</th>\n",
       "    </tr>\n",
       "  </thead>\n",
       "  <tbody>\n",
       "    <tr>\n",
       "      <th>0</th>\n",
       "      <td>0</td>\n",
       "      <td>900</td>\n",
       "      <td>0.001000</td>\n",
       "      <td>1.0</td>\n",
       "      <td>5.445833</td>\n",
       "      <td>4.208730</td>\n",
       "      <td>1.542720</td>\n",
       "      <td>12.544902</td>\n",
       "      <td>0.049599</td>\n",
       "      <td>0.000021</td>\n",
       "    </tr>\n",
       "    <tr>\n",
       "      <th>1</th>\n",
       "      <td>1</td>\n",
       "      <td>900</td>\n",
       "      <td>0.027263</td>\n",
       "      <td>1.0</td>\n",
       "      <td>0.484474</td>\n",
       "      <td>0.150188</td>\n",
       "      <td>0.313734</td>\n",
       "      <td>0.687633</td>\n",
       "      <td>0.049599</td>\n",
       "      <td>0.000076</td>\n",
       "    </tr>\n",
       "    <tr>\n",
       "      <th>2</th>\n",
       "      <td>2</td>\n",
       "      <td>900</td>\n",
       "      <td>0.053526</td>\n",
       "      <td>1.0</td>\n",
       "      <td>0.116729</td>\n",
       "      <td>0.075477</td>\n",
       "      <td>0.035997</td>\n",
       "      <td>0.217810</td>\n",
       "      <td>0.049599</td>\n",
       "      <td>0.000176</td>\n",
       "    </tr>\n",
       "    <tr>\n",
       "      <th>3</th>\n",
       "      <td>3</td>\n",
       "      <td>900</td>\n",
       "      <td>0.079789</td>\n",
       "      <td>1.0</td>\n",
       "      <td>0.036481</td>\n",
       "      <td>0.008397</td>\n",
       "      <td>0.026156</td>\n",
       "      <td>0.049516</td>\n",
       "      <td>0.049599</td>\n",
       "      <td>0.000351</td>\n",
       "    </tr>\n",
       "    <tr>\n",
       "      <th>4</th>\n",
       "      <td>4</td>\n",
       "      <td>900</td>\n",
       "      <td>0.106053</td>\n",
       "      <td>1.0</td>\n",
       "      <td>0.033257</td>\n",
       "      <td>0.003187</td>\n",
       "      <td>0.028292</td>\n",
       "      <td>0.036816</td>\n",
       "      <td>0.049599</td>\n",
       "      <td>0.000356</td>\n",
       "    </tr>\n",
       "    <tr>\n",
       "      <th>...</th>\n",
       "      <td>...</td>\n",
       "      <td>...</td>\n",
       "      <td>...</td>\n",
       "      <td>...</td>\n",
       "      <td>...</td>\n",
       "      <td>...</td>\n",
       "      <td>...</td>\n",
       "      <td>...</td>\n",
       "      <td>...</td>\n",
       "      <td>...</td>\n",
       "    </tr>\n",
       "    <tr>\n",
       "      <th>595</th>\n",
       "      <td>595</td>\n",
       "      <td>900</td>\n",
       "      <td>0.394947</td>\n",
       "      <td>2.5</td>\n",
       "      <td>0.051418</td>\n",
       "      <td>0.001044</td>\n",
       "      <td>0.050011</td>\n",
       "      <td>0.052544</td>\n",
       "      <td>0.049599</td>\n",
       "      <td>0.000460</td>\n",
       "    </tr>\n",
       "    <tr>\n",
       "      <th>596</th>\n",
       "      <td>596</td>\n",
       "      <td>900</td>\n",
       "      <td>0.421211</td>\n",
       "      <td>2.5</td>\n",
       "      <td>0.051777</td>\n",
       "      <td>0.000740</td>\n",
       "      <td>0.051033</td>\n",
       "      <td>0.052655</td>\n",
       "      <td>0.049599</td>\n",
       "      <td>0.000255</td>\n",
       "    </tr>\n",
       "    <tr>\n",
       "      <th>597</th>\n",
       "      <td>597</td>\n",
       "      <td>900</td>\n",
       "      <td>0.447474</td>\n",
       "      <td>2.5</td>\n",
       "      <td>0.053049</td>\n",
       "      <td>0.001763</td>\n",
       "      <td>0.050990</td>\n",
       "      <td>0.055835</td>\n",
       "      <td>0.049599</td>\n",
       "      <td>0.000535</td>\n",
       "    </tr>\n",
       "    <tr>\n",
       "      <th>598</th>\n",
       "      <td>598</td>\n",
       "      <td>900</td>\n",
       "      <td>0.473737</td>\n",
       "      <td>2.5</td>\n",
       "      <td>0.052408</td>\n",
       "      <td>0.000885</td>\n",
       "      <td>0.051011</td>\n",
       "      <td>0.053274</td>\n",
       "      <td>0.049599</td>\n",
       "      <td>0.000434</td>\n",
       "    </tr>\n",
       "    <tr>\n",
       "      <th>599</th>\n",
       "      <td>599</td>\n",
       "      <td>900</td>\n",
       "      <td>0.500000</td>\n",
       "      <td>2.5</td>\n",
       "      <td>0.053472</td>\n",
       "      <td>0.000735</td>\n",
       "      <td>0.052864</td>\n",
       "      <td>0.054729</td>\n",
       "      <td>0.049599</td>\n",
       "      <td>0.000535</td>\n",
       "    </tr>\n",
       "  </tbody>\n",
       "</table>\n",
       "<p>600 rows × 10 columns</p>\n",
       "</div>"
      ],
      "text/plain": [
       "     Unnamed: 0  Reservoir_Size  State_noise  Sprectral_radius  Rmse_val_mean  \\\n",
       "0             0             900     0.001000               1.0       5.445833   \n",
       "1             1             900     0.027263               1.0       0.484474   \n",
       "2             2             900     0.053526               1.0       0.116729   \n",
       "3             3             900     0.079789               1.0       0.036481   \n",
       "4             4             900     0.106053               1.0       0.033257   \n",
       "..          ...             ...          ...               ...            ...   \n",
       "595         595             900     0.394947               2.5       0.051418   \n",
       "596         596             900     0.421211               2.5       0.051777   \n",
       "597         597             900     0.447474               2.5       0.053049   \n",
       "598         598             900     0.473737               2.5       0.052408   \n",
       "599         599             900     0.500000               2.5       0.053472   \n",
       "\n",
       "     Rmse_val_std  Rmse_val_min  Rmse_val_max  Rmse_tr_mean  Rmse_tr_std  \n",
       "0        4.208730      1.542720     12.544902      0.049599     0.000021  \n",
       "1        0.150188      0.313734      0.687633      0.049599     0.000076  \n",
       "2        0.075477      0.035997      0.217810      0.049599     0.000176  \n",
       "3        0.008397      0.026156      0.049516      0.049599     0.000351  \n",
       "4        0.003187      0.028292      0.036816      0.049599     0.000356  \n",
       "..            ...           ...           ...           ...          ...  \n",
       "595      0.001044      0.050011      0.052544      0.049599     0.000460  \n",
       "596      0.000740      0.051033      0.052655      0.049599     0.000255  \n",
       "597      0.001763      0.050990      0.055835      0.049599     0.000535  \n",
       "598      0.000885      0.051011      0.053274      0.049599     0.000434  \n",
       "599      0.000735      0.052864      0.054729      0.049599     0.000535  \n",
       "\n",
       "[600 rows x 10 columns]"
      ]
     },
     "execution_count": 4,
     "metadata": {},
     "output_type": "execute_result"
    }
   ],
   "source": [
    "results"
   ]
  },
  {
   "cell_type": "code",
   "execution_count": 8,
   "metadata": {},
   "outputs": [
    {
     "data": {
      "text/plain": [
       "(-0.01, 0.3)"
      ]
     },
     "execution_count": 8,
     "metadata": {},
     "output_type": "execute_result"
    },
    {
     "data": {
      "image/png": "[encoded data removed]",
      "text/plain": [
       "<Figure size 432x288 with 1 Axes>"
      ]
     },
     "metadata": {},
     "output_type": "display_data"
    }
   ],
   "source": [
    "import matplotlib.pyplot as plt\n",
    "import numpy as np\n",
    "plt.scatter(results['State_noise'].values, \n",
    "            results['Sprectral_radius'], \n",
    "            \n",
    "            c= (np.log(results['Rmse_val_mean'])), \n",
    "            \n",
    "            cmap='Greys')\n",
    "\n",
    "\n",
    "best_x, best_y = results[results.index==results['Rmse_val_mean'].idxmin()][['State_noise','Sprectral_radius' ]].values[0]\n",
    "\n",
    "plt.scatter([best_x],[best_y], c='r',marker='x' ) \n",
    "\n",
    "# best_x, best_y = results[results.index==results['Rmse_val_min'].idxmin()][['State_noise','Sprectral_radius' ]].values[0]\n",
    "\n",
    "# plt.scatter([best_x],[best_y], c='b',marker='x' ) \n",
    "\n",
    "plt.xlim(-0.01, 0.3)\n",
    "# plt.ylim(0.8, 1.8)\n"
   ]
  },
  {
   "cell_type": "code",
   "execution_count": 75,
   "metadata": {},
   "outputs": [
    {
     "data": {
      "text/html": [
       "<div>\n",
       "<style scoped>\n",
       "    .dataframe tbody tr th:only-of-type {\n",
       "        vertical-align: middle;\n",
       "    }\n",
       "\n",
       "    .dataframe tbody tr th {\n",
       "        vertical-align: top;\n",
       "    }\n",
       "\n",
       "    .dataframe thead th {\n",
       "        text-align: right;\n",
       "    }\n",
       "</style>\n",
       "<table border=\"1\" class=\"dataframe\">\n",
       "  <thead>\n",
       "    <tr style=\"text-align: right;\">\n",
       "      <th></th>\n",
       "      <th>Unnamed: 0</th>\n",
       "      <th>Reservoir_Size</th>\n",
       "      <th>State_noise</th>\n",
       "      <th>Sprectral_radius</th>\n",
       "      <th>Rmse_val_mean</th>\n",
       "      <th>Rmse_val_std</th>\n",
       "      <th>Rmse_val_min</th>\n",
       "      <th>Rmse_val_max</th>\n",
       "      <th>Rmse_tr_mean</th>\n",
       "      <th>Rmse_tr_std</th>\n",
       "    </tr>\n",
       "  </thead>\n",
       "  <tbody>\n",
       "    <tr>\n",
       "      <th>241</th>\n",
       "      <td>241</td>\n",
       "      <td>900</td>\n",
       "      <td>0.027263</td>\n",
       "      <td>1.62069</td>\n",
       "      <td>0.020287</td>\n",
       "      <td>0.001803</td>\n",
       "      <td>0.017949</td>\n",
       "      <td>0.022954</td>\n",
       "      <td>0.049599</td>\n",
       "      <td>0.000849</td>\n",
       "    </tr>\n",
       "  </tbody>\n",
       "</table>\n",
       "</div>"
      ],
      "text/plain": [
       "     Unnamed: 0  Reservoir_Size  State_noise  Sprectral_radius  Rmse_val_mean  \\\n",
       "241         241             900     0.027263           1.62069       0.020287   \n",
       "\n",
       "     Rmse_val_std  Rmse_val_min  Rmse_val_max  Rmse_tr_mean  Rmse_tr_std  \n",
       "241      0.001803      0.017949      0.022954      0.049599     0.000849  "
      ]
     },
     "execution_count": 75,
     "metadata": {},
     "output_type": "execute_result"
    }
   ],
   "source": [
    "results[results.index==results['Rmse_val_min'].idxmin()]"
   ]
  },
  {
   "cell_type": "code",
   "execution_count": 16,
   "metadata": {},
   "outputs": [
    {
     "data": {
      "text/plain": [
       "<matplotlib.axes._subplots.AxesSubplot at 0x11abfdc50>"
      ]
     },
     "execution_count": 16,
     "metadata": {},
     "output_type": "execute_result"
    },
    {
     "data": {
      "image/png": "[encoded data removed]",
      "text/plain": [
       "<Figure size 432x288 with 1 Axes>"
      ]
     },
     "metadata": {},
     "output_type": "display_data"
    }
   ],
   "source": [
    "results.groupby('State_noise')['Rmse_val_mean'].agg(['max', 'min']).apply(np.log).plot()"
   ]
  },
  {
   "cell_type": "code",
   "execution_count": null,
   "metadata": {},
   "outputs": [],
   "source": []
  }
 ],
 "metadata": {
  "kernelspec": {
   "display_name": "Python 3",
   "language": "python",
   "name": "python3"
  },
  "language_info": {
   "codemirror_mode": {
    "name": "ipython",
    "version": 3
   },
   "file_extension": ".py",
   "mimetype": "text/x-python",
   "name": "python",
   "nbconvert_exporter": "python",
   "pygments_lexer": "ipython3",
   "version": "3.6.4"
  }
 },
 "nbformat": 4,
 "nbformat_minor": 2
}
